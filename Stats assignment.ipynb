{
 "cells": [
  {
   "cell_type": "code",
   "execution_count": 38,
   "id": "ea736d89",
   "metadata": {},
   "outputs": [],
   "source": [
    "Ω={1,2,3,4,5,6,7,8,9,10,11,12}\n",
    "A={2,4,6,8,10}\n",
    "B={3,8,11,12}\n",
    "C={2,3,6,8,9,11}\n"
   ]
  },
  {
   "cell_type": "code",
   "execution_count": 39,
   "id": "3fb13056",
   "metadata": {},
   "outputs": [],
   "source": [
    "import matplotlib.pyplot as plt\n",
    "from matplotlib_venn import venn3 # instal a package for ploting venn diagram\n"
   ]
  },
  {
   "cell_type": "markdown",
   "id": "7996a5a4",
   "metadata": {},
   "source": [
    "#### Illustrate all the sets in a Venn Diagram like the one below. The rectangular shape represents the universal set."
   ]
  },
  {
   "cell_type": "code",
   "execution_count": 41,
   "id": "387a2bf7",
   "metadata": {},
   "outputs": [
    {
     "data": {
      "image/png": "[encoded data removed]",
      "text/plain": [
       "<Figure size 640x480 with 1 Axes>"
      ]
     },
     "metadata": {},
     "output_type": "display_data"
    }
   ],
   "source": [
    "#creating a venn diagram\n",
    "venn3([A, B, C], set_labels=(\"A\", \"B\", \"C\",))\n",
    "plt.show()"
   ]
  },
  {
   "cell_type": "markdown",
   "id": "bd0535fb",
   "metadata": {},
   "source": [
    "#### b. Using your Venn Diagram, list the elements in each of the following sets:\n"
   ]
  },
  {
   "cell_type": "code",
   "execution_count": null,
   "id": "af0ffa0b",
   "metadata": {},
   "outputs": [
    {
     "data": {
      "text/plain": [
       "{8}"
      ]
     },
     "execution_count": 72,
     "metadata": {},
     "output_type": "execute_result"
    }
   ],
   "source": [
    "#Q1 $ A \\cap B$ # A intersect B\n",
    "ans_1= {8}\n",
    "ans_1\n"
   ]
  },
  {
   "cell_type": "code",
   "execution_count": null,
   "id": "c3df5ed5",
   "metadata": {},
   "outputs": [
    {
     "data": {
      "text/plain": [
       "{2, 3, 4, 6, 8, 9, 10, 11}"
      ]
     },
     "execution_count": 77,
     "metadata": {},
     "output_type": "execute_result"
    }
   ],
   "source": [
    "#Q2 $ A \\cup C$ A union C\n",
    "ans_2 = {2,3,4,6,8,9,10,11}\n",
    "ans_2\n"
   ]
  },
  {
   "cell_type": "code",
   "execution_count": null,
   "id": "0452e70b",
   "metadata": {},
   "outputs": [
    {
     "data": {
      "text/plain": [
       "{1, 3, 5, 7, 9, 11, 12}"
      ]
     },
     "execution_count": 56,
     "metadata": {},
     "output_type": "execute_result"
    }
   ],
   "source": [
    "# Ac A compliment with respect to Ω\n",
    "ans_3={1,3,5,7,9,11,12}\n",
    "ans_3\n"
   ]
  },
  {
   "cell_type": "code",
   "execution_count": null,
   "id": "d760e6ac",
   "metadata": {},
   "outputs": [
    {
     "data": {
      "text/plain": [
       "{1, 2, 4, 5, 6, 7, 9, 10}"
      ]
     },
     "execution_count": 57,
     "metadata": {},
     "output_type": "execute_result"
    }
   ],
   "source": [
    "# The absolute complement of B\n",
    "ans_4={1,2,4,5,6,7,9,10}\n",
    "ans_4\n",
    "\n"
   ]
  },
  {
   "cell_type": "code",
   "execution_count": null,
   "id": "debc2052",
   "metadata": {},
   "outputs": [
    {
     "data": {
      "text/plain": [
       "{1, 5, 7, 9}"
      ]
     },
     "execution_count": 58,
     "metadata": {},
     "output_type": "execute_result"
    }
   ],
   "source": [
    "# (A∪B)c\n",
    "ans_5={1,5,7,9}\n",
    "ans_5\n",
    "\n"
   ]
  },
  {
   "cell_type": "code",
   "execution_count": null,
   "id": "4727b376",
   "metadata": {},
   "outputs": [],
   "source": [
    "#B∩C′\n",
    "ans_6={12}\n",
    "\n",
    "\n"
   ]
  },
  {
   "cell_type": "code",
   "execution_count": null,
   "id": "2287557e",
   "metadata": {},
   "outputs": [
    {
     "data": {
      "text/plain": [
       "{2, 4, 6, 10}"
      ]
     },
     "execution_count": 60,
     "metadata": {},
     "output_type": "execute_result"
    }
   ],
   "source": [
    "# A∖B\n",
    "ans_7={2,4,6,10}\n",
    "ans_7\n",
    "\n",
    "\n",
    "\n"
   ]
  },
  {
   "cell_type": "code",
   "execution_count": null,
   "id": "46e80fa5",
   "metadata": {},
   "outputs": [
    {
     "data": {
      "text/plain": [
       "{2, 6, 8, 9}"
      ]
     },
     "execution_count": 61,
     "metadata": {},
     "output_type": "execute_result"
    }
   ],
   "source": [
    "# C∖B∖A\n",
    "\n",
    "ans_8 = {2,6,8,9}\n",
    "ans_8\n",
    "\n"
   ]
  },
  {
   "cell_type": "code",
   "execution_count": null,
   "id": "eeb4cf4c",
   "metadata": {},
   "outputs": [
    {
     "data": {
      "text/plain": [
       "{2, 6, 8, 9}"
      ]
     },
     "execution_count": 62,
     "metadata": {},
     "output_type": "execute_result"
    }
   ],
   "source": [
    "# (C∩A)∪(C∖B)\n",
    "\n",
    "ans_9 = {2,6,8,9}\n",
    "ans_9\n",
    "\n"
   ]
  },
  {
   "cell_type": "markdown",
   "id": "37f23f43",
   "metadata": {},
   "source": [
    "#### c. For the remainder of this exercise, let's create sets A, B and C and universal set U in Python and test out the results you came up with. Sets are easy to create in Python. For a guide to the syntax, follow some of the documentation"
   ]
  },
  {
   "cell_type": "code",
   "execution_count": 33,
   "id": "b492ea05",
   "metadata": {},
   "outputs": [
    {
     "data": {
      "text/plain": [
       "\"Type A: <class 'set'>, A: {2, 4, 6, 8, 10}\""
      ]
     },
     "execution_count": 33,
     "metadata": {},
     "output_type": "execute_result"
    }
   ],
   "source": [
    "# Create set A\n",
    "A = {2,4,6,8,10}\n",
    "f\"Type A: {type(A)}, A: {A}\""
   ]
  },
  {
   "cell_type": "code",
   "execution_count": 32,
   "id": "b6dab85c",
   "metadata": {},
   "outputs": [
    {
     "data": {
      "text/plain": [
       "\"Type B: <class 'set'>, A: {8, 3, 11, 12}\""
      ]
     },
     "execution_count": 32,
     "metadata": {},
     "output_type": "execute_result"
    }
   ],
   "source": [
    "# Create set B\n",
    "B = {3,8,11,12}\n",
    "f\"Type B: {type(B)}, A: {B}\""
   ]
  },
  {
   "cell_type": "code",
   "execution_count": 31,
   "id": "62eabfc6",
   "metadata": {},
   "outputs": [
    {
     "data": {
      "text/plain": [
       "\"Type C: <class 'set'>, A: {2, 3, 6, 8, 9, 11}\""
      ]
     },
     "execution_count": 31,
     "metadata": {},
     "output_type": "execute_result"
    }
   ],
   "source": [
    "# Create set C\n",
    "C = {2,3,6,8,9,11}\n",
    "f\"Type C: {type(C)}, A: {C}\""
   ]
  },
  {
   "cell_type": "code",
   "execution_count": 30,
   "id": "0808914b",
   "metadata": {},
   "outputs": [
    {
     "data": {
      "text/plain": [
       "\"Type U: <class 'set'>, A: {1, 2, 3, 4, 5, 6, 7, 8, 9, 10, 11, 12}\""
      ]
     },
     "execution_count": 30,
     "metadata": {},
     "output_type": "execute_result"
    }
   ],
   "source": [
    "# Create universal set U\n",
    "U ={1,2,3,4,5,6,7,8,9,10,11,12}\n",
    "f\"Type U: {type(U)}, A: {U}\" "
   ]
  },
  {
   "cell_type": "markdown",
   "id": "143e77c8",
   "metadata": {},
   "source": [
    "#### Now, verify your answers in section 1 by using the correct methods in Python. For example, if the question was just asking for the values of B, you would replace None with B."
   ]
  },
  {
   "cell_type": "markdown",
   "id": "0ac1777c",
   "metadata": {},
   "source": [
    "1. $ A \\cap B$\n"
   ]
  },
  {
   "cell_type": "code",
   "execution_count": 73,
   "id": "a0aba57a",
   "metadata": {},
   "outputs": [
    {
     "data": {
      "text/plain": [
       "True"
      ]
     },
     "execution_count": 73,
     "metadata": {},
     "output_type": "execute_result"
    }
   ],
   "source": [
    "A_inters_B = A.intersection(B) \n",
    "A_inters_B == ans_1"
   ]
  },
  {
   "cell_type": "markdown",
   "id": "075a1880",
   "metadata": {},
   "source": [
    "2. $ A \\cup C $"
   ]
  },
  {
   "cell_type": "code",
   "execution_count": 78,
   "id": "8d2f6518",
   "metadata": {},
   "outputs": [
    {
     "data": {
      "text/plain": [
       "True"
      ]
     },
     "execution_count": 78,
     "metadata": {},
     "output_type": "execute_result"
    }
   ],
   "source": [
    "A_union_C = A|C\n",
    "A_union_C == ans_2"
   ]
  },
  {
   "cell_type": "markdown",
   "id": "416ff37f",
   "metadata": {},
   "source": [
    "3. A^c"
   ]
  },
  {
   "cell_type": "code",
   "execution_count": 86,
   "id": "97492ba4",
   "metadata": {},
   "outputs": [
    {
     "data": {
      "text/plain": [
       "True"
      ]
     },
     "execution_count": 86,
     "metadata": {},
     "output_type": "execute_result"
    }
   ],
   "source": [
    "A_comp = U-A\n",
    "A_comp == ans_3"
   ]
  },
  {
   "cell_type": "markdown",
   "id": "eda57706",
   "metadata": {},
   "source": [
    "4. The absolute complement of B"
   ]
  },
  {
   "cell_type": "code",
   "execution_count": 85,
   "id": "30e0baa7",
   "metadata": {},
   "outputs": [
    {
     "data": {
      "text/plain": [
       "True"
      ]
     },
     "execution_count": 85,
     "metadata": {},
     "output_type": "execute_result"
    }
   ],
   "source": [
    "B_comp = U-B\n",
    "B_comp == ans_4"
   ]
  },
  {
   "cell_type": "markdown",
   "id": "235e2f6e",
   "metadata": {},
   "source": [
    "5. (A∪B)^c"
   ]
  },
  {
   "cell_type": "code",
   "execution_count": 84,
   "id": "8e88b147",
   "metadata": {},
   "outputs": [
    {
     "data": {
      "text/plain": [
       "True"
      ]
     },
     "execution_count": 84,
     "metadata": {},
     "output_type": "execute_result"
    }
   ],
   "source": [
    "A_union_B_comp = U-(A|B)\n",
    "A_union_B_comp == ans_5"
   ]
  },
  {
   "cell_type": "markdown",
   "id": "3626147d",
   "metadata": {},
   "source": [
    "6. B∩C′"
   ]
  },
  {
   "cell_type": "code",
   "execution_count": 87,
   "id": "a557f651",
   "metadata": {},
   "outputs": [
    {
     "data": {
      "text/plain": [
       "True"
      ]
     },
     "execution_count": 87,
     "metadata": {},
     "output_type": "execute_result"
    }
   ],
   "source": [
    "\n",
    "B_inters_C_comp = B&(U-C)\n",
    "B_inters_C_comp == ans_6"
   ]
  },
  {
   "cell_type": "markdown",
   "id": "cb7bd12b",
   "metadata": {},
   "source": [
    "7. A∖B"
   ]
  },
  {
   "cell_type": "code",
   "execution_count": 89,
   "id": "2225b007",
   "metadata": {},
   "outputs": [
    {
     "data": {
      "text/plain": [
       "True"
      ]
     },
     "execution_count": 89,
     "metadata": {},
     "output_type": "execute_result"
    }
   ],
   "source": [
    "compl_of_B = A-B\n",
    "compl_of_B == ans_7"
   ]
  },
  {
   "cell_type": "markdown",
   "id": "156be9e5",
   "metadata": {},
   "source": [
    "8. C∖(B∖A)"
   ]
  },
  {
   "cell_type": "code",
   "execution_count": 90,
   "id": "606d8347",
   "metadata": {},
   "outputs": [
    {
     "data": {
      "text/plain": [
       "True"
      ]
     },
     "execution_count": 90,
     "metadata": {},
     "output_type": "execute_result"
    }
   ],
   "source": [
    "C_compl_B_compl_A = C-(B-A)\n",
    "C_compl_B_compl_A == ans_8"
   ]
  },
  {
   "cell_type": "markdown",
   "id": "4d0d276b",
   "metadata": {},
   "source": [
    "9. (C∩A)∪(C∖B)"
   ]
  },
  {
   "cell_type": "code",
   "execution_count": 91,
   "id": "8ebb115a",
   "metadata": {},
   "outputs": [
    {
     "data": {
      "text/plain": [
       "True"
      ]
     },
     "execution_count": 91,
     "metadata": {},
     "output_type": "execute_result"
    }
   ],
   "source": [
    "C_inters_A_union_C_min_B = (C&A)|(C-B)\n",
    "C_inters_A_union_C_min_B == ans_9"
   ]
  },
  {
   "cell_type": "markdown",
   "id": "95766a97",
   "metadata": {},
   "source": [
    "The Inclusion Exclusion Principle\n",
    "Use A, B and C from exercise one to verify the inclusion exclusion principle in Python. You can use the sets A, B and C as used in the previous exercise.\n",
    "\n",
    "∣A∪B∪C∣=∣A∣+∣B∣+∣C∣−∣A∩B∣−∣A∩C∣−∣B∩C∣+∣A∩B∩C∣"
   ]
  },
  {
   "cell_type": "code",
   "execution_count": 92,
   "id": "06a6177a",
   "metadata": {},
   "outputs": [
    {
     "name": "stdout",
     "output_type": "stream",
     "text": [
      "9\n"
     ]
    }
   ],
   "source": [
    "left_hand_eq = len(A.union(B).union(C))\n",
    "print(left_hand_eq)  # 9 elements in the set"
   ]
  },
  {
   "cell_type": "code",
   "execution_count": 93,
   "id": "0e79f807",
   "metadata": {},
   "outputs": [
    {
     "name": "stdout",
     "output_type": "stream",
     "text": [
      "9\n"
     ]
    }
   ],
   "source": [
    "right_hand_eq = (len(A)+len(B)+len(C)-len(A & B)-len(A & C)-len(B & C)+len(A & B & C))\n",
    "print(right_hand_eq) # 9 elements in the set"
   ]
  },
  {
   "cell_type": "code",
   "execution_count": 94,
   "id": "511f3dcb",
   "metadata": {},
   "outputs": [
    {
     "data": {
      "text/plain": [
       "True"
      ]
     },
     "execution_count": 94,
     "metadata": {},
     "output_type": "execute_result"
    }
   ],
   "source": [
    "left_hand_eq==right_hand_eq # Use a comparison operator to compare `left_hand_eq` and `right_hand_eq`. Needs to say \"True\"."
   ]
  },
  {
   "cell_type": "markdown",
   "id": "bc3ab543",
   "metadata": {},
   "source": [
    "#### Set Operations in Python\n",
    "Mary is preparing for a road trip from her hometown, Boston, to Chicago. She has quite a few pets, yet luckily, so do her friends. They try to make sure that they take care of each other's pets while someone is away on a trip. A month ago, each respective person's pet collection was given by the following three sets:"
   ]
  },
  {
   "cell_type": "code",
   "execution_count": 119,
   "id": "3d7910a7",
   "metadata": {},
   "outputs": [],
   "source": [
    "Nina = set([\"Cat\",\"Dog\",\"Rabbit\",\"Donkey\",\"Parrot\", \"Goldfish\"])\n",
    "Mary = set([\"Dog\",\"Chinchilla\",\"Horse\", \"Chicken\"])\n",
    "Eve = set([\"Rabbit\", \"Turtle\", \"Goldfish\"])"
   ]
  },
  {
   "cell_type": "markdown",
   "id": "4c002302",
   "metadata": {},
   "source": [
    "Sadly, Eve's turtle passed away last week. Let's update her pet list accordingly."
   ]
  },
  {
   "cell_type": "code",
   "execution_count": 109,
   "id": "2972da3e",
   "metadata": {},
   "outputs": [
    {
     "data": {
      "text/plain": [
       "{'Goldfish', 'Rabbit'}"
      ]
     },
     "execution_count": 109,
     "metadata": {},
     "output_type": "execute_result"
    }
   ],
   "source": [
    "Eve.discard(\"Turtle\") # should be {'Rabbit', 'Goldfish'}\n",
    "Eve"
   ]
  },
  {
   "cell_type": "markdown",
   "id": "00202430",
   "metadata": {},
   "source": [
    "This time around, Nina promised to take care of Mary's pets while she's away. But she also wants to make sure her pets are well taken care of. As Nina is already spending a considerable amount of time taking care of her own pets, adding a few more won't make that much of a difference. Nina does want to update her list while Mary is away."
   ]
  },
  {
   "cell_type": "code",
   "execution_count": 121,
   "id": "25ee4fa8",
   "metadata": {},
   "outputs": [
    {
     "data": {
      "text/plain": [
       "{'Cat',\n",
       " 'Chicken',\n",
       " 'Chinchilla',\n",
       " 'Dog',\n",
       " 'Donkey',\n",
       " 'Goldfish',\n",
       " 'Horse',\n",
       " 'Parrot',\n",
       " 'Rabbit'}"
      ]
     },
     "execution_count": 121,
     "metadata": {},
     "output_type": "execute_result"
    }
   ],
   "source": [
    "Nina.update(Mary)\n",
    "Nina"
   ]
  },
  {
   "cell_type": "markdown",
   "id": "cfb2d358",
   "metadata": {},
   "source": [
    "Mary, on the other hand, wants to clear her list altogether while away:"
   ]
  },
  {
   "cell_type": "code",
   "execution_count": 122,
   "id": "c1281b88",
   "metadata": {},
   "outputs": [
    {
     "data": {
      "text/plain": [
       "set()"
      ]
     },
     "execution_count": 122,
     "metadata": {},
     "output_type": "execute_result"
    }
   ],
   "source": [
    "Mary.clear()\n",
    "Mary  # set()"
   ]
  },
  {
   "cell_type": "markdown",
   "id": "2142a08d",
   "metadata": {},
   "source": [
    "Look at how many species Nina is taking care of right now."
   ]
  },
  {
   "cell_type": "code",
   "execution_count": 123,
   "id": "6c0f8392",
   "metadata": {},
   "outputs": [
    {
     "data": {
      "text/plain": [
       "9"
      ]
     },
     "execution_count": 123,
     "metadata": {},
     "output_type": "execute_result"
    }
   ],
   "source": [
    "n_species_Nina = len(Nina)\n",
    "n_species_Nina # 9"
   ]
  },
  {
   "cell_type": "markdown",
   "id": "5be954f9",
   "metadata": {},
   "source": [
    "Taking care of this many pets is weighing heavily on Nina. She remembered Eve had a smaller collection of pets lately, and that's why she asks Eve to take care of the common species. This way, the extra pets are not a huge effort on Eve's behalf. Let's update Nina's pet collection."
   ]
  },
  {
   "cell_type": "code",
   "execution_count": 124,
   "id": "82855b08",
   "metadata": {},
   "outputs": [
    {
     "data": {
      "text/plain": [
       "{'Cat', 'Chicken', 'Chinchilla', 'Dog', 'Donkey', 'Horse', 'Parrot'}"
      ]
     },
     "execution_count": 124,
     "metadata": {},
     "output_type": "execute_result"
    }
   ],
   "source": [
    "Nina.difference_update(Nina&Eve)\n",
    "Nina"
   ]
  },
  {
   "cell_type": "markdown",
   "id": "0694546f",
   "metadata": {},
   "source": [
    "Writing Down the Elements in a Set"
   ]
  },
  {
   "cell_type": "markdown",
   "id": "8636ef95",
   "metadata": {},
   "source": [
    "Mary dropped off her pets at Nina's house and finally made her way to the highway. Awesome, her vacation has begun! She's approaching an exit. At the end of this particular highway exit, cars can either turn left (L), go straight (S) or turn right (R). It's pretty busy and there are two cars driving close to her. What you'll do now is create several sets. You won't be using Python here, it's sufficient to write the sets down on paper. A good notion of sets and subsets will help you calculate probabilities in the next lab!"
   ]
  },
  {
   "cell_type": "markdown",
   "id": "74bf507e",
   "metadata": {},
   "source": [
    "a. Create a set A of all possible outcomes assuming that all three cars drive in the same direction."
   ]
  },
  {
   "cell_type": "markdown",
   "id": "a63c936e",
   "metadata": {},
   "source": [
    "# Set A = {(L, L, L), (S, S, S), (R, R, R)}"
   ]
  },
  {
   "cell_type": "markdown",
   "id": "30045cdf",
   "metadata": {},
   "source": [
    "b. Create a set B of all possible outcomes assuming that all three cars drive in a different direction"
   ]
  },
  {
   "cell_type": "markdown",
   "id": "e0a4dc63",
   "metadata": {},
   "source": [
    "# Set B = {Set B = {(L, S, R),(L, R, S),(S, L, R),(S, R, L),(R, L, S),(R, S, L)}}"
   ]
  },
  {
   "cell_type": "markdown",
   "id": "aed31698",
   "metadata": {},
   "source": [
    "c. Create a set C of all possible outcomes assuming that exactly 2 cars turn right."
   ]
  },
  {
   "cell_type": "markdown",
   "id": "71afbdce",
   "metadata": {},
   "source": [
    "# Set C = {(L,R,R),(R,L,R),(R,R,L),(S,R,R),(R,S,R),(R,R,S)}"
   ]
  },
  {
   "cell_type": "markdown",
   "id": "aa3afc94",
   "metadata": {},
   "source": [
    "d. Create a set D of all possible outcomes assuming that exactly 2 cars drive in the same direction."
   ]
  },
  {
   "cell_type": "markdown",
   "id": "65a9bfdd",
   "metadata": {},
   "source": [
    "# Set D ={(R,R,L),(R,L,R),(L,R,R),(R,R,S),(R,S,R),(S,R,R),(L,L,S),(L,S,L),(S,L,L),(L,L,R),(L,R,L),(R,L,L),(S,S,L),(S,L,S) (L,S,S),(S,S,R),(S,R,S),(R,S,S)}"
   ]
  },
  {
   "cell_type": "markdown",
   "id": "21bee108",
   "metadata": {},
   "source": [
    "Write down the interpretation and give all possible outcomes for the sets denoted by:\n"
   ]
  },
  {
   "cell_type": "markdown",
   "id": "4bbb6e00",
   "metadata": {},
   "source": [
    "I. D′\n",
    "# set D is the set containing outcomes of exactly 2 cars drive in the same direction, set D' is the set containing all cars driving in the same derection or all cars driving in different direction"
   ]
  },
  {
   "cell_type": "markdown",
   "id": "04e1ceeb",
   "metadata": {},
   "source": [
    "II. C∩D,\n",
    "# With nothing in common, C intersect D is equal to set C."
   ]
  },
  {
   "cell_type": "markdown",
   "id": "20fbb2b1",
   "metadata": {},
   "source": [
    "III. C∪D.\n",
    "# Since all members of set C are also contained in set D, then C union D is equal to set D."
   ]
  },
  {
   "cell_type": "markdown",
   "id": "89fa7c93",
   "metadata": {},
   "source": [
    "Use set operations to determine which European countries are not in the European Union. Use the Country column. You just might have to clean the data first with pandas."
   ]
  },
  {
   "cell_type": "code",
   "execution_count": 22,
   "id": "9412bee5",
   "metadata": {},
   "outputs": [],
   "source": [
    "import pandas as pd\n",
    "\n",
    "# Load Europe and EU\n",
    "Europe = pd.read_excel(\"Europe_and_EU.xlsx\", sheet_name = \"Europe\") \n",
    "EU = pd.read_excel(\"Europe_and_EU.xlsx\", sheet_name = \"EU\")\n",
    "\n",
    "#code here to remove any whitespace from names\n",
    "\n",
    "Europe[\"Country\"] = Europe[\"Country\"].str.strip()\n",
    "EU[\"Country\"] = EU[\"Country\"].str.strip()\n"
   ]
  },
  {
   "cell_type": "markdown",
   "id": "b703ffc0",
   "metadata": {},
   "source": [
    "Preview data:\n"
   ]
  },
  {
   "cell_type": "code",
   "execution_count": 23,
   "id": "6bc3a8cd",
   "metadata": {},
   "outputs": [
    {
     "data": {
      "text/html": [
       "<div>\n",
       "<style scoped>\n",
       "    .dataframe tbody tr th:only-of-type {\n",
       "        vertical-align: middle;\n",
       "    }\n",
       "\n",
       "    .dataframe tbody tr th {\n",
       "        vertical-align: top;\n",
       "    }\n",
       "\n",
       "    .dataframe thead th {\n",
       "        text-align: right;\n",
       "    }\n",
       "</style>\n",
       "<table border=\"1\" class=\"dataframe\">\n",
       "  <thead>\n",
       "    <tr style=\"text-align: right;\">\n",
       "      <th></th>\n",
       "      <th>Rank</th>\n",
       "      <th>Country</th>\n",
       "      <th>Population</th>\n",
       "      <th>% of population</th>\n",
       "      <th>Average relative annual growth (%)</th>\n",
       "      <th>Average absolute annual growth</th>\n",
       "      <th>Estimated doubling time (Years)</th>\n",
       "      <th>Official figure (where available)</th>\n",
       "      <th>Date of last figure</th>\n",
       "      <th>Regional grouping</th>\n",
       "      <th>Source</th>\n",
       "    </tr>\n",
       "  </thead>\n",
       "  <tbody>\n",
       "    <tr>\n",
       "      <th>0</th>\n",
       "      <td>1.0</td>\n",
       "      <td>Russia</td>\n",
       "      <td>143964709</td>\n",
       "      <td>17.15</td>\n",
       "      <td>0.19</td>\n",
       "      <td>294285</td>\n",
       "      <td>368</td>\n",
       "      <td>146839993</td>\n",
       "      <td>2017-01-01 00:00:00</td>\n",
       "      <td>EAEU</td>\n",
       "      <td>[1]</td>\n",
       "    </tr>\n",
       "    <tr>\n",
       "      <th>1</th>\n",
       "      <td>2.0</td>\n",
       "      <td>Germany</td>\n",
       "      <td>82521653</td>\n",
       "      <td>9.80</td>\n",
       "      <td>1.20</td>\n",
       "      <td>600000</td>\n",
       "      <td>90</td>\n",
       "      <td>82800000</td>\n",
       "      <td>2016-12-31 00:00:00</td>\n",
       "      <td>EU</td>\n",
       "      <td>Official estimate</td>\n",
       "    </tr>\n",
       "    <tr>\n",
       "      <th>2</th>\n",
       "      <td>3.0</td>\n",
       "      <td>Turkey</td>\n",
       "      <td>80810000</td>\n",
       "      <td>9.60</td>\n",
       "      <td>1.34</td>\n",
       "      <td>1035000</td>\n",
       "      <td>52</td>\n",
       "      <td>77695904</td>\n",
       "      <td>2016-12-31 00:00:00</td>\n",
       "      <td>NaN</td>\n",
       "      <td>[2]</td>\n",
       "    </tr>\n",
       "  </tbody>\n",
       "</table>\n",
       "</div>"
      ],
      "text/plain": [
       "   Rank  Country  Population  % of population  \\\n",
       "0   1.0   Russia   143964709            17.15   \n",
       "1   2.0  Germany    82521653             9.80   \n",
       "2   3.0   Turkey    80810000             9.60   \n",
       "\n",
       "   Average relative annual growth (%)  Average absolute annual growth  \\\n",
       "0                                0.19                          294285   \n",
       "1                                1.20                          600000   \n",
       "2                                1.34                         1035000   \n",
       "\n",
       "  Estimated doubling time (Years)  Official figure (where available)  \\\n",
       "0                             368                          146839993   \n",
       "1                              90                           82800000   \n",
       "2                              52                           77695904   \n",
       "\n",
       "   Date of last figure Regional grouping             Source  \n",
       "0  2017-01-01 00:00:00             EAEU                 [1]  \n",
       "1  2016-12-31 00:00:00               EU   Official estimate  \n",
       "2  2016-12-31 00:00:00               NaN                [2]  "
      ]
     },
     "execution_count": 23,
     "metadata": {},
     "output_type": "execute_result"
    }
   ],
   "source": [
    "Europe.head(3)"
   ]
  },
  {
   "cell_type": "code",
   "execution_count": 24,
   "id": "d0e97508",
   "metadata": {},
   "outputs": [
    {
     "data": {
      "text/html": [
       "<div>\n",
       "<style scoped>\n",
       "    .dataframe tbody tr th:only-of-type {\n",
       "        vertical-align: middle;\n",
       "    }\n",
       "\n",
       "    .dataframe tbody tr th {\n",
       "        vertical-align: top;\n",
       "    }\n",
       "\n",
       "    .dataframe thead th {\n",
       "        text-align: right;\n",
       "    }\n",
       "</style>\n",
       "<table border=\"1\" class=\"dataframe\">\n",
       "  <thead>\n",
       "    <tr style=\"text-align: right;\">\n",
       "      <th></th>\n",
       "      <th>Rank</th>\n",
       "      <th>Country</th>\n",
       "      <th>2017 population</th>\n",
       "      <th>% of pop.</th>\n",
       "      <th>Average relative annual growth</th>\n",
       "      <th>Average absolute annual growth</th>\n",
       "      <th>Official figure</th>\n",
       "      <th>Date of last figure</th>\n",
       "      <th>Source</th>\n",
       "    </tr>\n",
       "  </thead>\n",
       "  <tbody>\n",
       "    <tr>\n",
       "      <th>0</th>\n",
       "      <td>1</td>\n",
       "      <td>Germany</td>\n",
       "      <td>82800000</td>\n",
       "      <td>16.18</td>\n",
       "      <td>0.76</td>\n",
       "      <td>628876</td>\n",
       "      <td>82576900</td>\n",
       "      <td>2017-03-31</td>\n",
       "      <td>Official estimate</td>\n",
       "    </tr>\n",
       "    <tr>\n",
       "      <th>1</th>\n",
       "      <td>2</td>\n",
       "      <td>France</td>\n",
       "      <td>67210459</td>\n",
       "      <td>13.10</td>\n",
       "      <td>0.40</td>\n",
       "      <td>265557</td>\n",
       "      <td>67174000</td>\n",
       "      <td>2018-01-01</td>\n",
       "      <td>Monthly official estimate</td>\n",
       "    </tr>\n",
       "    <tr>\n",
       "      <th>2</th>\n",
       "      <td>3</td>\n",
       "      <td>United Kingdom</td>\n",
       "      <td>65808573</td>\n",
       "      <td>12.86</td>\n",
       "      <td>0.65</td>\n",
       "      <td>428793</td>\n",
       "      <td>65648100</td>\n",
       "      <td>2017-06-30</td>\n",
       "      <td>Official estimate</td>\n",
       "    </tr>\n",
       "  </tbody>\n",
       "</table>\n",
       "</div>"
      ],
      "text/plain": [
       "   Rank         Country  2017 population  % of pop.  \\\n",
       "0     1         Germany         82800000      16.18   \n",
       "1     2          France         67210459      13.10   \n",
       "2     3  United Kingdom         65808573      12.86   \n",
       "\n",
       "   Average relative annual growth  Average absolute annual growth  \\\n",
       "0                            0.76                          628876   \n",
       "1                            0.40                          265557   \n",
       "2                            0.65                          428793   \n",
       "\n",
       "   Official figure Date of last figure                     Source  \n",
       "0         82576900          2017-03-31          Official estimate  \n",
       "1         67174000          2018-01-01  Monthly official estimate  \n",
       "2         65648100          2017-06-30          Official estimate  "
      ]
     },
     "execution_count": 24,
     "metadata": {},
     "output_type": "execute_result"
    }
   ],
   "source": [
    "EU.head(3)"
   ]
  },
  {
   "cell_type": "code",
   "execution_count": 25,
   "id": "0837f140",
   "metadata": {},
   "outputs": [
    {
     "name": "stdout",
     "output_type": "stream",
     "text": [
      "True\n"
     ]
    }
   ],
   "source": [
    "\n",
    "# Check to confirm that the EU countries are a subset of countries in Europe\n",
    "Europe_countries = set(Europe[\"Country\"])\n",
    "EU_countries = set(EU[\"Country\"])\n",
    "\n",
    "is_subset = EU_countries.issubset(Europe_countries)\n",
    "print(is_subset)"
   ]
  },
  {
   "cell_type": "code",
   "execution_count": 28,
   "id": "0f69d63c",
   "metadata": {},
   "outputs": [
    {
     "name": "stdout",
     "output_type": "stream",
     "text": [
      "{'Moldova', 'Norway', 'Russia', 'Isle of Man (UK)', 'Vatican City', 'Georgia', 'Faroe Islands (Denmark)', 'Ukraine', 'San Marino', 'Jersey (UK)', 'Belarus', 'Iceland', 'Kosovo', 'Turkey', 'Monaco', 'Switzerland', 'Gibraltar (UK)', 'Bosnia and Herzegovina', 'Albania', 'Montenegro', 'Serbia', 'Guernsey (UK)', 'Liechtenstein', 'Azerbaijan', 'Åland Islands (Finland)', 'Armenia', 'Svalbard (Norway)', 'Macedonia', 'Andorra'}\n"
     ]
    }
   ],
   "source": [
    "# Find the set of countries that are in Europe but not the EU\n",
    "non_Eu_Europe_contries = Europe_countries - EU_countries\n",
    "print(non_Eu_Europe_contries)"
   ]
  }
 ],
 "metadata": {
  "kernelspec": {
   "display_name": "base",
   "language": "python",
   "name": "python3"
  },
  "language_info": {
   "codemirror_mode": {
    "name": "ipython",
    "version": 3
   },
   "file_extension": ".py",
   "mimetype": "text/x-python",
   "name": "python",
   "nbconvert_exporter": "python",
   "pygments_lexer": "ipython3",
   "version": "3.13.5"
  }
 },
 "nbformat": 4,
 "nbformat_minor": 5
}
